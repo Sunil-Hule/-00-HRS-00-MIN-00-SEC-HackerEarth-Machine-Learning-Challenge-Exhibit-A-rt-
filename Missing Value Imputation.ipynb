{
 "cells": [
  {
   "cell_type": "code",
   "execution_count": 276,
   "metadata": {},
   "outputs": [],
   "source": [
    "import pandas as pd\n",
    "import numpy as np\n",
    "import matplotlib.pyplot as plt\n",
    "import seaborn as sns\n",
    "sns.set(style = 'whitegrid')\n",
    "import os\n",
    "\n",
    "path = os.getcwd()\n",
    "data_path = 'C:\\\\Users\\\\sunil\\\\Projects\\\\HackerEarth\\\\7342422066d511eb\\\\dataset\\\\'"
   ]
  },
  {
   "cell_type": "code",
   "execution_count": 277,
   "metadata": {},
   "outputs": [],
   "source": [
    "train = pd.read_csv(data_path + 'train.csv')\n",
    "test = pd.read_csv(data_path + 'test.csv')\n",
    "sample_sub = pd.read_csv(data_path + 'sample_submission.csv')"
   ]
  },
  {
   "cell_type": "code",
   "execution_count": 278,
   "metadata": {},
   "outputs": [],
   "source": [
    "pd.set_option('display.max_columns', 100)"
   ]
  },
  {
   "cell_type": "code",
   "execution_count": 279,
   "metadata": {},
   "outputs": [],
   "source": [
    "df = pd.concat([train, test], axis = 0).reset_index(drop=True)"
   ]
  },
  {
   "cell_type": "markdown",
   "metadata": {},
   "source": [
    "**Artist Reputation**"
   ]
  },
  {
   "cell_type": "code",
   "execution_count": 280,
   "metadata": {},
   "outputs": [],
   "source": [
    "df['Artist Reputation'].fillna(df['Artist Reputation'].median(), inplace = True)"
   ]
  },
  {
   "cell_type": "markdown",
   "metadata": {},
   "source": [
    "**Height**"
   ]
  },
  {
   "cell_type": "code",
   "execution_count": 281,
   "metadata": {},
   "outputs": [],
   "source": [
    "def height_imputer_by_material_weight(x):\n",
    "    if x['Weight'] <= 1000:\n",
    "        lower = 0\n",
    "        upper = 999\n",
    "    elif x['Weight']>1000 and x['Weight']<10000:\n",
    "        lower = 1000\n",
    "        upper = 10000\n",
    "    elif x['Weight']>10000 and x['Weight']<100000:\n",
    "        lower = 10000\n",
    "        upper = 100000\n",
    "    else:\n",
    "        lower = 100000\n",
    "        upper = 100000000000000000\n",
    "    impute = df[ (df['Material'] == x['Material']) & (df['Weight']<=upper) & (df['Weight']>=lower)]['Height'].median()\n",
    "    return impute"
   ]
  },
  {
   "cell_type": "code",
   "execution_count": 282,
   "metadata": {},
   "outputs": [],
   "source": [
    "df.loc[ (df['Height'].isna()) & (~df['Weight'].isna()) & (~df['Material'].isna()), 'Height'] = df[ (df['Height'].isna()) & (~df['Weight'].isna()) & (~df['Material'].isna())].apply(lambda x: height_imputer_by_material_weight(x), axis = 1)"
   ]
  },
  {
   "cell_type": "code",
   "execution_count": 283,
   "metadata": {
    "scrolled": true
   },
   "outputs": [],
   "source": [
    "df['Height'].fillna(df['Height'].median(), inplace = True)"
   ]
  },
  {
   "cell_type": "markdown",
   "metadata": {},
   "source": [
    "**Width**"
   ]
  },
  {
   "cell_type": "code",
   "execution_count": 284,
   "metadata": {},
   "outputs": [],
   "source": [
    "def width_imputer_by_material_weight(x):\n",
    "    if x['Weight'] <= 1000:\n",
    "        lower = 0\n",
    "        upper = 999\n",
    "    elif x['Weight']>1000 and x['Weight']<10000:\n",
    "        lower = 1000\n",
    "        upper = 10000\n",
    "    elif x['Weight']>10000 and x['Weight']<100000:\n",
    "        lower = 10000\n",
    "        upper = 100000\n",
    "    else:\n",
    "        lower = 100000\n",
    "        upper = 100000000000000000\n",
    "    impute = df[ (df['Material'] == x['Material']) & (df['Weight']<=upper) & (df['Weight']>=lower)]['Width'].median()\n",
    "    return impute"
   ]
  },
  {
   "cell_type": "code",
   "execution_count": 285,
   "metadata": {},
   "outputs": [],
   "source": [
    "df.loc[ (df['Width'].isna()) & (~df['Weight'].isna()) & (~df['Material'].isna()), 'Width'] = df[ (df['Width'].isna()) & (~df['Weight'].isna()) & (~df['Material'].isna())].apply(lambda x: height_imputer_by_material_weight(x), axis = 1)"
   ]
  },
  {
   "cell_type": "code",
   "execution_count": 286,
   "metadata": {},
   "outputs": [],
   "source": [
    "df['Width'].fillna(df['Width'].median(), inplace = True)"
   ]
  },
  {
   "cell_type": "markdown",
   "metadata": {},
   "source": [
    "**Weight**"
   ]
  },
  {
   "cell_type": "code",
   "execution_count": 287,
   "metadata": {},
   "outputs": [],
   "source": [
    "def weight_imputer_by_material_weight(x):\n",
    "    if x['Height'] <= 10:\n",
    "        lower = 0\n",
    "        upper = 10\n",
    "    elif x['Height']>10 and x['Height']<25:\n",
    "        lower = 10\n",
    "        upper = 25\n",
    "    elif x['Height']>25 and x['Height']<50:\n",
    "        lower = 25\n",
    "        upper = 50\n",
    "    else:\n",
    "        lower = 50\n",
    "        upper = 100\n",
    "    if x['Width'] <= 10:\n",
    "        lower_1 = 0\n",
    "        upper_1 = 10\n",
    "    elif x['Width']>10 and x['Width']<20:\n",
    "        lower_1 = 10\n",
    "        upper_1 = 20\n",
    "    elif x['Width']>20 and x['Width']<35:\n",
    "        lower_1 = 20\n",
    "        upper_1 = 35\n",
    "    else:\n",
    "        lower_1 = 35\n",
    "        upper_1 = 100\n",
    "    impute = df[ (df['Width']<=upper_1) & (df['Width']>=lower_1) & (df['Height']<=upper) & (df['Height']>=lower)]['Weight'].median()\n",
    "    return impute"
   ]
  },
  {
   "cell_type": "code",
   "execution_count": 288,
   "metadata": {},
   "outputs": [],
   "source": [
    "df.loc[ (df['Weight'].isna()), 'Weight'] = df[ (df['Weight'].isna())].apply(lambda x: weight_imputer_by_material_weight(x), axis = 1)"
   ]
  },
  {
   "cell_type": "code",
   "execution_count": 289,
   "metadata": {},
   "outputs": [],
   "source": [
    "df.loc[982, 'Weight'] = 160322.500\n",
    "df.loc[1678, 'Weight'] = 160322.500"
   ]
  },
  {
   "cell_type": "markdown",
   "metadata": {},
   "source": [
    "**Material**"
   ]
  },
  {
   "cell_type": "code",
   "execution_count": 290,
   "metadata": {},
   "outputs": [],
   "source": [
    "def material_imputer_by_material_weight(x):\n",
    "    if x['Height'] <= 10:\n",
    "        lower = 0\n",
    "        upper = 10\n",
    "    elif x['Height']>10 and x['Height']<25:\n",
    "        lower = 10\n",
    "        upper = 25\n",
    "    elif x['Height']>25 and x['Height']<50:\n",
    "        lower = 25\n",
    "        upper = 50\n",
    "    else:\n",
    "        lower = 50\n",
    "        upper = 100\n",
    "    if x['Width'] <= 10:\n",
    "        lower_1 = 0\n",
    "        upper_1 = 10\n",
    "    elif x['Width']>10 and x['Width']<20:\n",
    "        lower_1 = 10\n",
    "        upper_1 = 20\n",
    "    elif x['Width']>20 and x['Width']<35:\n",
    "        lower_1 = 20\n",
    "        upper_1 = 35\n",
    "    else:\n",
    "        lower_1 = 35\n",
    "        upper_1 = 100\n",
    "    if x['Weight'] <= 1000:\n",
    "        lower_2 = 0\n",
    "        upper_2 = 999\n",
    "    elif x['Weight']>1000 and x['Weight']<10000:\n",
    "        lower_2 = 1000\n",
    "        upper_2 = 10000\n",
    "    elif x['Weight']>10000 and x['Weight']<100000:\n",
    "        lower_2 = 10000\n",
    "        upper_2 = 100000\n",
    "    else:\n",
    "        lower_2 = 100000\n",
    "        upper_2 = 100000000000000000\n",
    "    dic = df[ (df['Width']<=upper_1) & (df['Width']>=lower_1) & (df['Height']<=upper) & (df['Height']>=lower) & (df['Weight']>=lower_2) & (df['Weight']>=upper_2)]['Material'].value_counts().to_dict()\n",
    "    if len(dic) == 0:\n",
    "        return None\n",
    "    impute = list(dic.keys())[0]\n",
    "    return impute"
   ]
  },
  {
   "cell_type": "code",
   "execution_count": 291,
   "metadata": {},
   "outputs": [],
   "source": [
    "df.loc[ (df['Material'].isna()), 'Material'] = df[ (df['Material'].isna())].apply(lambda x: material_imputer_by_material_weight(x), axis = 1)"
   ]
  },
  {
   "cell_type": "code",
   "execution_count": 292,
   "metadata": {},
   "outputs": [],
   "source": [
    "df['Material'].fillna('Stone', inplace = True)"
   ]
  },
  {
   "cell_type": "markdown",
   "metadata": {},
   "source": [
    "**Transport**"
   ]
  },
  {
   "cell_type": "code",
   "execution_count": 293,
   "metadata": {},
   "outputs": [],
   "source": [
    "df.loc[ (df['Transport'].isna()) & (df['Express Shipment'] == 'Yes'), 'Transport'] = 'Waterways'"
   ]
  },
  {
   "cell_type": "code",
   "execution_count": 294,
   "metadata": {},
   "outputs": [],
   "source": [
    "df.loc[ (df['Transport'].isna()) & (df['Customer Information'] == 'Wealthy'), 'Transport'] = 'Airways'"
   ]
  },
  {
   "cell_type": "code",
   "execution_count": 295,
   "metadata": {},
   "outputs": [],
   "source": [
    "df['Transport'].fillna('Roadways', inplace = True)"
   ]
  },
  {
   "cell_type": "markdown",
   "metadata": {},
   "source": [
    "**Remote Location**"
   ]
  },
  {
   "cell_type": "code",
   "execution_count": 296,
   "metadata": {},
   "outputs": [
    {
     "data": {
      "text/plain": [
       "Customer Information  Remote Location\n",
       "Wealthy               No                 1959\n",
       "                      Yes                 477\n",
       "Working Class         No                 5424\n",
       "                      Yes                1369\n",
       "Name: Remote Location, dtype: int64"
      ]
     },
     "execution_count": 296,
     "metadata": {},
     "output_type": "execute_result"
    }
   ],
   "source": [
    "df.groupby('Customer Information')['Remote Location'].value_counts()"
   ]
  },
  {
   "cell_type": "code",
   "execution_count": 297,
   "metadata": {},
   "outputs": [],
   "source": [
    "df.loc[ (df['Remote Location'].isna()) & (df['Customer Information'] == 'Wealthy'), 'Remote Location'] = 'No'\n",
    "df['Remote Location'].fillna('Yes', inplace = True)"
   ]
  },
  {
   "cell_type": "code",
   "execution_count": 298,
   "metadata": {},
   "outputs": [],
   "source": [
    "train, test = df[: train.shape[0]], df[train.shape[0]:].reset_index(drop = True)"
   ]
  },
  {
   "cell_type": "code",
   "execution_count": 300,
   "metadata": {},
   "outputs": [],
   "source": [
    "train.to_csv(data_path + 'cleaned_train.csv', index = False)\n",
    "test.to_csv(data_path + 'cleaned_test.csv', index = False)"
   ]
  },
  {
   "cell_type": "code",
   "execution_count": null,
   "metadata": {},
   "outputs": [],
   "source": []
  },
  {
   "cell_type": "code",
   "execution_count": null,
   "metadata": {},
   "outputs": [],
   "source": []
  }
 ],
 "metadata": {
  "kernelspec": {
   "display_name": "Python 3",
   "language": "python",
   "name": "python3"
  },
  "language_info": {
   "codemirror_mode": {
    "name": "ipython",
    "version": 3
   },
   "file_extension": ".py",
   "mimetype": "text/x-python",
   "name": "python",
   "nbconvert_exporter": "python",
   "pygments_lexer": "ipython3",
   "version": "3.7.6"
  }
 },
 "nbformat": 4,
 "nbformat_minor": 4
}
